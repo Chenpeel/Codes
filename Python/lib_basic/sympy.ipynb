{
 "cells": [
  {
   "cell_type": "code",
   "execution_count": null,
   "metadata": {},
   "outputs": [
    {
     "ename": "",
     "evalue": "",
     "output_type": "error",
     "traceback": [
      "\u001b[1;31m运行具有“python3.12 (Python 3.12.2)”的单元格需要ipykernel包。\n",
      "\u001b[1;31m运行以下命令，将 \"ipykernel\" 安装到 Python 环境中。\n",
      "\u001b[1;31m命令: \"conda install -n python3.12 ipykernel --update-deps --force-reinstall\""
     ]
    }
   ],
   "source": [
    "import sympy"
   ]
  },
  {
   "cell_type": "markdown",
   "metadata": {},
   "source": [
    "$\\sum\\limits_{n=1}^{\\infty} \\big( -1 - \\cfrac{1}{2n} + n \\sum\\limits_{k=n}^{\\infty} \\cfrac{1}{k^2} \\big)$"
   ]
  },
  {
   "cell_type": "code",
   "execution_count": 6,
   "metadata": {},
   "outputs": [
    {
     "data": {
      "text/latex": [
       "$\\displaystyle \\sum_{n=1}^{\\infty} \\left(n \\sum_{k=n}^{\\infty} \\frac{1}{k^{2}} - 1 - \\frac{1}{2 n}\\right)$"
      ],
      "text/plain": [
       "Sum(n*Sum(k**(-2), (k, n, oo)) - 1 - 1/(2*n), (n, 1, oo))"
      ]
     },
     "metadata": {},
     "output_type": "display_data"
    }
   ],
   "source": [
    "\n",
    "n, k = sympy.symbols('n k')\n",
    "expr = sympy.Sum((-1 - 1/(2*n) + n * sympy.Sum(1/k**2, (k, n, sympy.oo))), (n, 1, sympy.oo))\n",
    "display(expr)\n",
    "# res = expr.evalf()\n",
    "# display(res)"
   ]
  }
 ],
 "metadata": {
  "kernelspec": {
   "display_name": "gptac_venv",
   "language": "python",
   "name": "python3"
  },
  "language_info": {
   "codemirror_mode": {
    "name": "ipython",
    "version": 3
   },
   "file_extension": ".py",
   "mimetype": "text/x-python",
   "name": "python",
   "nbconvert_exporter": "python",
   "pygments_lexer": "ipython3",
   "version": "3.12.2"
  }
 },
 "nbformat": 4,
 "nbformat_minor": 2
}
